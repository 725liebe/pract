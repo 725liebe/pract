{
  "nbformat": 4,
  "nbformat_minor": 0,
  "metadata": {
    "colab": {
      "provenance": []
    },
    "kernelspec": {
      "name": "python3",
      "display_name": "Python 3"
    },
    "language_info": {
      "name": "python"
    }
  },
  "cells": [
    {
      "cell_type": "code",
      "execution_count": null,
      "metadata": {
        "id": "WQfjqVNQJLAi"
      },
      "outputs": [],
      "source": [
        "from sklearn.datasets import make_classification\n",
        "# Data processing\n",
        "import pandas as pd\n",
        "import numpy as np\n",
        "from collections import Counter\n",
        "# Visualization\n",
        "import matplotlib.pyplot as plt\n",
        "import seaborn as sns\n",
        "# Model and performance\n",
        "#!pip install tensorflow\n",
        "import tensorflow as tf\n",
        "from tensorflow.keras import layers, losses\n",
        "from sklearn.model_selection import train_test_split\n",
        "from sklearn.metrics import classification_report"
      ]
    },
    {
      "cell_type": "code",
      "source": [
        "X, y = make_classification(n_samples=100000, n_features=32, n_informative=32,\n",
        "n_redundant=0, n_repeated=0, n_classes=2,\n",
        "n_clusters_per_class=1,\n",
        "weights=[0.995, 0.005],\n",
        "class_sep=0.5, random_state=0)\n"
      ],
      "metadata": {
        "id": "yaKhxzKzJQhw"
      },
      "execution_count": null,
      "outputs": []
    },
    {
      "cell_type": "code",
      "source": [
        "X_train, X_test, y_train, y_test = train_test_split(X, y, test_size=0.2, random_state=42)\n",
        "# Check the number of records\n",
        "print('The number of records in the training dataset is', X_train.shape[0])\n",
        "print('The number of records in the test dataset is', X_test.shape[0])\n",
        "print(f\"The training dataset has {sorted(Counter(y_train).items())[0][1]} records for the minority classes\")"
      ],
      "metadata": {
        "colab": {
          "base_uri": "https://localhost:8080/"
        },
        "id": "y8___kMcJTBh",
        "outputId": "574a9a5f-0bae-4694-a301-ea348068c0b2"
      },
      "execution_count": null,
      "outputs": [
        {
          "output_type": "stream",
          "name": "stdout",
          "text": [
            "The number of records in the training dataset is 80000\n",
            "The number of records in the test dataset is 20000\n",
            "The training dataset has 79200 records for the minority classes\n"
          ]
        }
      ]
    },
    {
      "cell_type": "code",
      "source": [
        "# Keep only the normal data for the training dataset\n",
        "X_train_normal = X_train[np.where(y_train == 0)]\n",
        "# Input layer\n",
        "input = tf.keras.layers.Input(shape=(32,))\n",
        "# Encoder layers\n",
        "encoder =tf.keras.Sequential([\n",
        "\n",
        "layers.Dense(16, activation='relu'),\n",
        "layers.Dense(8, activation='relu'),\n",
        "layers.Dense(4, activation='relu')])(input)\n",
        "# Decoder layers\n",
        "decoder = tf.keras.Sequential([\n",
        "layers.Dense(8, activation=\"relu\"),\n",
        "layers.Dense(16, activation=\"relu\"),\n",
        "layers.Dense(32, activation=\"sigmoid\")])(encoder)\n",
        "# Create the autoencoder\n",
        "autoencoder = tf.keras.Model(inputs=input, outputs=decoder)"
      ],
      "metadata": {
        "id": "b7NneTmqJk8s"
      },
      "execution_count": null,
      "outputs": []
    },
    {
      "cell_type": "code",
      "source": [
        "# Compile the autoencoder\n",
        "autoencoder.compile(optimizer='adam', loss='mae')\n",
        "# Fit the autoencoder\n",
        "history = autoencoder.fit(X_train_normal, X_train_normal,\n",
        "epochs=20,\n",
        "batch_size=64,\n",
        "validation_data=(X_test, X_test),\n",
        "shuffle=True)\n"
      ],
      "metadata": {
        "colab": {
          "base_uri": "https://localhost:8080/"
        },
        "id": "bPFtkp16KiGh",
        "outputId": "300076f6-09a2-4d02-f808-4f0d5abaf275"
      },
      "execution_count": null,
      "outputs": [
        {
          "output_type": "stream",
          "name": "stdout",
          "text": [
            "Epoch 1/20\n",
            "1238/1238 [==============================] - 5s 3ms/step - loss: 2.5349 - val_loss: 2.5081\n",
            "Epoch 2/20\n",
            "1238/1238 [==============================] - 3s 3ms/step - loss: 2.4967 - val_loss: 2.4917\n",
            "Epoch 3/20\n",
            "1238/1238 [==============================] - 4s 3ms/step - loss: 2.4822 - val_loss: 2.4812\n",
            "Epoch 4/20\n",
            "1238/1238 [==============================] - 4s 3ms/step - loss: 2.4752 - val_loss: 2.4774\n",
            "Epoch 5/20\n",
            "1238/1238 [==============================] - 5s 4ms/step - loss: 2.4716 - val_loss: 2.4738\n",
            "Epoch 6/20\n",
            "1238/1238 [==============================] - 4s 3ms/step - loss: 2.4691 - val_loss: 2.4729\n",
            "Epoch 7/20\n",
            "1238/1238 [==============================] - 3s 3ms/step - loss: 2.4677 - val_loss: 2.4709\n",
            "Epoch 8/20\n",
            "1238/1238 [==============================] - 3s 3ms/step - loss: 2.4663 - val_loss: 2.4695\n",
            "Epoch 9/20\n",
            "1238/1238 [==============================] - 3s 3ms/step - loss: 2.4627 - val_loss: 2.4663\n",
            "Epoch 10/20\n",
            "1238/1238 [==============================] - 4s 3ms/step - loss: 2.4614 - val_loss: 2.4651\n",
            "Epoch 11/20\n",
            "1238/1238 [==============================] - 4s 3ms/step - loss: 2.4605 - val_loss: 2.4642\n",
            "Epoch 12/20\n",
            "1238/1238 [==============================] - 3s 3ms/step - loss: 2.4598 - val_loss: 2.4638\n",
            "Epoch 13/20\n",
            "1238/1238 [==============================] - 4s 3ms/step - loss: 2.4591 - val_loss: 2.4633\n",
            "Epoch 14/20\n",
            "1238/1238 [==============================] - 3s 3ms/step - loss: 2.4583 - val_loss: 2.4624\n",
            "Epoch 15/20\n",
            "1238/1238 [==============================] - 3s 3ms/step - loss: 2.4577 - val_loss: 2.4619\n",
            "Epoch 16/20\n",
            "1238/1238 [==============================] - 3s 3ms/step - loss: 2.4570 - val_loss: 2.4615\n",
            "Epoch 17/20\n",
            "1238/1238 [==============================] - 3s 3ms/step - loss: 2.4566 - val_loss: 2.4612\n",
            "Epoch 18/20\n",
            "1238/1238 [==============================] - 3s 3ms/step - loss: 2.4561 - val_loss: 2.4607\n",
            "Epoch 19/20\n",
            "1238/1238 [==============================] - 3s 3ms/step - loss: 2.4556 - val_loss: 2.4603\n",
            "Epoch 20/20\n",
            "1238/1238 [==============================] - 3s 3ms/step - loss: 2.4551 - val_loss: 2.4599\n"
          ]
        }
      ]
    },
    {
      "cell_type": "code",
      "source": [
        "plt.plot(history.history[\"loss\"], label=\"Training Loss\")\n",
        "plt.plot(history.history[\"val_loss\"] , label=\"Validation Loss\")\n",
        "plt.legend();"
      ],
      "metadata": {
        "colab": {
          "base_uri": "https://localhost:8080/",
          "height": 265
        },
        "id": "ks3cN9XoKoql",
        "outputId": "3b17ec13-9212-4f7d-cc43-d37e83ce7338"
      },
      "execution_count": null,
      "outputs": [
        {
          "output_type": "display_data",
          "data": {
            "text/plain": [
              "<Figure size 432x288 with 1 Axes>"
            ],
            "image/png": "[encoded data removed]"
          },
          "metadata": {
            "needs_background": "light"
          }
        }
      ]
    },
    {
      "cell_type": "code",
      "source": [
        "# Predict anomalies/outliers in the training dataset\n",
        "prediction = autoencoder.predict(X_test)\n"
      ],
      "metadata": {
        "colab": {
          "base_uri": "https://localhost:8080/"
        },
        "id": "sEnUPUbyLIp6",
        "outputId": "9052979f-95c2-459d-96a2-b980a3ec631a"
      },
      "execution_count": null,
      "outputs": [
        {
          "output_type": "stream",
          "name": "stdout",
          "text": [
            "625/625 [==============================] - 1s 1ms/step\n"
          ]
        }
      ]
    },
    {
      "cell_type": "code",
      "source": [
        "# Get the mean absolute error between actual and reconstruction/prediction\n",
        "prediction_loss = tf.keras.losses.mae(prediction, X_test)"
      ],
      "metadata": {
        "id": "wj4GsrcVLRt7"
      },
      "execution_count": null,
      "outputs": []
    },
    {
      "cell_type": "code",
      "source": [
        "# Check the prediction loss threshold for 2% of outliers\n",
        "loss_threshold = np.percentile(prediction_loss, 98)\n",
        "print(f'The prediction loss threshold for 2% of outliers is {loss_threshold:.2f}')\n"
      ],
      "metadata": {
        "colab": {
          "base_uri": "https://localhost:8080/"
        },
        "id": "dC6oq_5DLbiZ",
        "outputId": "85cb2d22-2bd2-4c0f-b126-db7fe104b377"
      },
      "execution_count": null,
      "outputs": [
        {
          "output_type": "stream",
          "name": "stdout",
          "text": [
            "The prediction loss threshold for 2% of outliers is 3.45\n"
          ]
        }
      ]
    },
    {
      "cell_type": "code",
      "source": [
        "# Visualize the threshold\n",
        "sns.histplot(prediction_loss, bins=30, alpha=0.8)\n",
        "plt.axvline(x=loss_threshold, color='orange')\n"
      ],
      "metadata": {
        "colab": {
          "base_uri": "https://localhost:8080/",
          "height": 282
        },
        "id": "DmM8SsDeLe3L",
        "outputId": "e46bd006-74bc-44d1-be6c-aac4b89c187a"
      },
      "execution_count": null,
      "outputs": [
        {
          "output_type": "execute_result",
          "data": {
            "text/plain": [
              "<matplotlib.lines.Line2D at 0x7f78ddfb02d0>"
            ]
          },
          "metadata": {},
          "execution_count": 11
        },
        {
          "output_type": "display_data",
          "data": {
            "text/plain": [
              "<Figure size 432x288 with 1 Axes>"
            ],
            "image/png": "[encoded data removed]"
          },
          "metadata": {
            "needs_background": "light"
          }
        }
      ]
    },
    {
      "cell_type": "code",
      "source": [
        "# Check the model performance at 2% threshold\n",
        "threshold_prediction = [0 if i < loss_threshold else 1 for i in prediction_loss]\n",
        "# Check the prediction performance\n",
        "print(classification_report(y_test, threshold_prediction))\n"
      ],
      "metadata": {
        "colab": {
          "base_uri": "https://localhost:8080/"
        },
        "id": "SpgjWMDALjf8",
        "outputId": "9afcafd8-914a-4439-f0f2-9573d20b422e"
      },
      "execution_count": null,
      "outputs": [
        {
          "output_type": "stream",
          "name": "stdout",
          "text": [
            "              precision    recall  f1-score   support\n",
            "\n",
            "           0       0.99      0.98      0.98     19803\n",
            "           1       0.01      0.01      0.01       197\n",
            "\n",
            "    accuracy                           0.97     20000\n",
            "   macro avg       0.50      0.50      0.50     20000\n",
            "weighted avg       0.98      0.97      0.98     20000\n",
            "\n"
          ]
        }
      ]
    }
  ]
}